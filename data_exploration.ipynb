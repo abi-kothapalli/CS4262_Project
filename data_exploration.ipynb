{
 "cells": [
  {
   "cell_type": "code",
   "execution_count": null,
   "metadata": {},
   "outputs": [],
   "source": [
    "import json\n",
    "import torch\n",
    "from PIL import Image\n",
    "from sklearn.model_selection import train_test_split\n",
    "from torchvision import transforms\n",
    "import matplotlib.pyplot as plt\n",
    "from IPython.display import clear_output"
   ]
  },
  {
   "cell_type": "code",
   "execution_count": null,
   "metadata": {},
   "outputs": [],
   "source": [
    "with open(\"./data/raw_data/dfdc_train_part_0/metadata.json\") as f:\n",
    "    metadata = json.load(f)"
   ]
  },
  {
   "cell_type": "code",
   "execution_count": null,
   "metadata": {},
   "outputs": [],
   "source": [
    "for key in metadata:\n",
    "    clear_output(wait=True)\n",
    "    img = key.split(\".\")[0]\n",
    "    \n",
    "    if metadata[key][\"label\"] == \"REAL\":\n",
    "        continue\n",
    "    orig = metadata[key][\"original\"].split(\".\")[0]\n",
    "    \n",
    "    img = Image.open(f\"./data/processed_images/{img}_0.jpg\")\n",
    "    orig = Image.open(f\"./data/processed_images/{orig}_0.jpg\")\n",
    "    \n",
    "    plt.imshow(img)\n",
    "    plt.show()\n",
    "    plt.imshow(orig)\n",
    "    plt.show()\n",
    "\n",
    "    next = input(\"\")\n"
   ]
  },
  {
   "cell_type": "code",
   "execution_count": null,
   "metadata": {},
   "outputs": [],
   "source": [
    "with open(\"./data/processed_images/labels.json\") as f:\n",
    "    labels = json.load(f)\n",
    "\n",
    "data = sorted(list(labels.keys()))"
   ]
  },
  {
   "cell_type": "code",
   "execution_count": null,
   "metadata": {},
   "outputs": [],
   "source": [
    "preprocess = transforms.Compose([\n",
    "    transforms.Resize(256),\n",
    "    transforms.CenterCrop(224),\n",
    "    transforms.RandomHorizontalFlip(p=0.5),\n",
    "    transforms.ToTensor(),\n",
    "])"
   ]
  },
  {
   "cell_type": "code",
   "execution_count": null,
   "metadata": {},
   "outputs": [],
   "source": [
    "fig = plt.figure(figsize=(9, 9))\n",
    "rows, cols = 2, 2\n",
    "\n",
    "images = []\n",
    "\n",
    "for i in range(rows*cols):\n",
    "    idx = torch.randint(0, len(data), size=[1]).item()\n",
    "  \n",
    "    img = data[idx]\n",
    "    label = labels[img]\n",
    "\n",
    "    img = Image.open(f\"./data/processed_images/{img}.jpg\")\n",
    "    images.append((img, label))\n",
    "\n",
    "    fig.add_subplot(rows, cols, i+1)\n",
    "    plt.imshow(img)\n",
    "    plt.title(label)\n",
    "    plt.axis(False)"
   ]
  },
  {
   "cell_type": "code",
   "execution_count": null,
   "metadata": {},
   "outputs": [],
   "source": [
    "fig = plt.figure(figsize=(9, 9))\n",
    "rows, cols = 2, 2\n",
    "\n",
    "i = 0\n",
    "\n",
    "for img, label in images:\n",
    "    fig.add_subplot(rows, cols, i+1)\n",
    "    plt.imshow(preprocess(img).permute(1, 2, 0))\n",
    "    plt.title(label)\n",
    "    plt.axis(False)\n",
    "\n",
    "    i += 1"
   ]
  }
 ],
 "metadata": {
  "kernelspec": {
   "display_name": "dev",
   "language": "python",
   "name": "python3"
  },
  "language_info": {
   "codemirror_mode": {
    "name": "ipython",
    "version": 3
   },
   "file_extension": ".py",
   "mimetype": "text/x-python",
   "name": "python",
   "nbconvert_exporter": "python",
   "pygments_lexer": "ipython3",
   "version": "3.10.8"
  },
  "orig_nbformat": 4
 },
 "nbformat": 4,
 "nbformat_minor": 2
}
