{
 "cells": [
  {
   "cell_type": "code",
   "execution_count": 19,
   "metadata": {},
   "outputs": [],
   "source": [
    "from glob import glob\n",
    "import cv2\n",
    "import json\n",
    "import os"
   ]
  },
  {
   "cell_type": "code",
   "execution_count": 10,
   "metadata": {},
   "outputs": [],
   "source": [
    "video_files = glob(\"./raw_data/*/*.mp4\")\n",
    "metadata_files = glob(\"./raw_data/*/metadata.json\")"
   ]
  },
  {
   "cell_type": "code",
   "execution_count": 23,
   "metadata": {},
   "outputs": [],
   "source": [
    "metadata = {}\n",
    "\n",
    "for metadata_file in metadata_files:\n",
    "    with open(metadata_file) as f:\n",
    "        dat = json.load(f)\n",
    "    metadata.update(dat)"
   ]
  },
  {
   "cell_type": "code",
   "execution_count": 28,
   "metadata": {},
   "outputs": [],
   "source": [
    "labels = {}\n",
    "\n",
    "os.makedirs(\"./processed_images\", exist_ok=True)\n",
    "\n",
    "for vid in video_files:\n",
    "    vid_name = os.path.basename(vid).split(\".\")[0]\n",
    "\n",
    "    video = cv2.VideoCapture(vid)\n",
    "\n",
    "    frame_num = 0\n",
    "    while video.isOpened():\n",
    "        ret, frame = video.read()\n",
    "        if ret:\n",
    "            if frame_num % 30 == 0:\n",
    "                img_name = f\"{vid_name}_{frame_num}\"\n",
    "                cv2.imwrite(os.path.join(\"./processed_images\", f\"{img_name}.jpg\"), frame)\n",
    "                labels[img_name] = metadata[f\"{vid_name}.mp4\"][\"label\"]\n",
    "            \n",
    "            frame_num += 1\n",
    "        else:\n",
    "            break\n",
    "    \n",
    "    video.release()\n",
    "\n",
    "    break\n"
   ]
  },
  {
   "cell_type": "code",
   "execution_count": null,
   "metadata": {},
   "outputs": [],
   "source": []
  }
 ],
 "metadata": {
  "kernelspec": {
   "display_name": "dev",
   "language": "python",
   "name": "python3"
  },
  "language_info": {
   "codemirror_mode": {
    "name": "ipython",
    "version": 3
   },
   "file_extension": ".py",
   "mimetype": "text/x-python",
   "name": "python",
   "nbconvert_exporter": "python",
   "pygments_lexer": "ipython3",
   "version": "3.10.8"
  },
  "orig_nbformat": 4
 },
 "nbformat": 4,
 "nbformat_minor": 2
}
